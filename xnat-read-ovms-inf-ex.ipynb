{
 "cells": [
  {
   "cell_type": "markdown",
   "metadata": {},
   "source": [
    "### XNAT DB Connection and OpenVINO model server Inference Example.\n",
    "This is a very basic sample example which does the following:\n",
    "1. Start OpenVINO model Server\n",
    "1. Connect to  XNAT DB\n",
    "2. Download a sample DICOM Image form XNAT DB\n",
    "3. Read the DICOM image using pydicom\n",
    "4. Send the data to OpenVINO model server for inference."
   ]
  },
  {
   "cell_type": "markdown",
   "metadata": {},
   "source": [
    "### Start OpenVINO model server. In the terminal, run the following:\n",
    "```\n",
    "docker run --rm \\\n",
    "-v /home/bduser/ravi/xnat/ovms/models/unet/FP32:/opt/ml/unet/1 \\\n",
    "-p 9001:9001 -p 8001:8001 ie-serving-py \\\n",
    "/ie-serving-py/start_server.sh ie_serving model \\\n",
    "--model_path /opt/ml/unet --model_name unet \\\n",
    "--port 9001 --rest_port 8001 \n",
    "```\n",
    "\n",
    "#### Sample output in the terminal\n",
    "```\n",
    "2020-03-31 20:14:37,144 - ie_serving.main - INFO - Log level set: INFO\n",
    "2020-03-31 20:14:37,144 - ie_serving.models.model - INFO - Server start loading model: unet\n",
    "2020-03-31 20:14:37,146 - ie_serving.models.model - INFO - Creating inference engine object for version: 1\n",
    "2020-03-31 20:14:37,314 - ie_serving.models.ir_engine - INFO - Matched keys for model: {'inputs': {'MRImages': 'MRImages'}, 'outputs': {'PredictionMask/Sigmoid': 'PredictionMask/Sigmoid'}}\n",
    "2020-03-31 20:14:37,314 - ie_serving.models.model - INFO - List of available versions for unet model: [1]\n",
    "2020-03-31 20:14:37,314 - ie_serving.models.model - INFO - Default version for unet model is 1\n",
    "2020-03-31 20:14:37,321 - ie_serving.server.start - INFO - REST server listens on port 8001 and will be serving models: ['unet']\n",
    "2020-03-31 20:14:37,326 - ie_serving.server.start - INFO - gRPC server listens on port 9001 and will be serving models: ['unet']\n",
    "```"
   ]
  },
  {
   "cell_type": "markdown",
   "metadata": {},
   "source": [
    "### Note: You can run in the `detached` mode using `-d` if you are using Jupyter Notebook."
   ]
  },
  {
   "cell_type": "code",
   "execution_count": 16,
   "metadata": {},
   "outputs": [
    {
     "name": "stdout",
     "output_type": "stream",
     "text": [
      "7770104b54a724d3546fcc33750fe473d4ec6d342f49a3c4610e0c1e26d143ca\n"
     ]
    }
   ],
   "source": [
    "%%sh\n",
    "docker run -d --rm \\\n",
    "-v /home/bduser/ravi/xnat/ovms/models/unet/FP32:/opt/ml/unet/1 \\\n",
    "-p 9001:9001 -p 8001:8001 ie-serving-py \\\n",
    "/ie-serving-py/start_server.sh ie_serving model \\\n",
    "--model_path /opt/ml/unet --model_name unet \\\n",
    "--port 9001 --rest_port 8001"
   ]
  },
  {
   "cell_type": "code",
   "execution_count": 4,
   "metadata": {},
   "outputs": [
    {
     "name": "stdout",
     "output_type": "stream",
     "text": [
      "Connection successful ! \n",
      "Read a DICOM scan successfully...\n"
     ]
    }
   ],
   "source": [
    "# Connect to XNAT database\n",
    "import xnat\n",
    "connection = xnat.connect('https://central.xnat.org', user=\"rpanchum\", password=\"ravi123\")\n",
    "\n",
    "print(\"Connection successful ! \")\n",
    "\n",
    "# Get a sample DICOM image\n",
    "project = 'Sample_DICOM'\n",
    "subject = 'dcmtest1'\n",
    "session = 0\n",
    "scan = 0\n",
    "resource = 'DICOM'\n",
    "file_obj = connection.projects[project].subjects[subject].experiments[session].scans[scan].resources[resource].files[0]\n",
    "\n",
    "print(\"Read a DICOM scan successfully...\")\n",
    "\n"
   ]
  },
  {
   "cell_type": "code",
   "execution_count": 5,
   "metadata": {},
   "outputs": [
    {
     "name": "stdout",
     "output_type": "stream",
     "text": [
      "\n",
      "Filename.........: /data/projects/Sample_DICOM/subjects/CENTRAL_S01894/experiments/CENTRAL_E03907/scans/2/resources/123221318/files/dcmtest1.MR.Sample_DICOM.2.1.20010108.120022.1azj8tu.dcm\n",
      "Storage type.....: 1.2.840.10008.5.1.4.1.1.4\n",
      "\n",
      "Patient's name...: dcmtest1, \n",
      "Patient id.......: dcmtest1_MR1\n",
      "Modality.........: MR\n",
      "Study Date.......: 20010108\n",
      "Image size.......: 512 x 512, 524288 bytes\n",
      "Pixel spacing....: [0.390625, 0.390625]\n"
     ]
    }
   ],
   "source": [
    "# Read the DICOM image \n",
    "import pydicom\n",
    "with file_obj.open() as fin:\n",
    "    dataset = pydicom.dcmread(fin)\n",
    "\n",
    "# Print DICOM Data Info\n",
    "print()\n",
    "print(\"Filename.........:\", file_obj.fulluri)\n",
    "print(\"Storage type.....:\", dataset.SOPClassUID)\n",
    "print()\n",
    "\n",
    "pat_name = dataset.PatientName\n",
    "display_name = pat_name.family_name + \", \" + pat_name.given_name\n",
    "print(\"Patient's name...:\", display_name)\n",
    "print(\"Patient id.......:\", dataset.PatientID)\n",
    "print(\"Modality.........:\", dataset.Modality)\n",
    "print(\"Study Date.......:\", dataset.StudyDate)\n",
    "\n",
    "if 'PixelData' in dataset:\n",
    "    rows = int(dataset.Rows)\n",
    "    cols = int(dataset.Columns)\n",
    "    print(\"Image size.......: {rows:d} x {cols:d}, {size:d} bytes\".format(\n",
    "        rows=rows, cols=cols, size=len(dataset.PixelData)))\n",
    "    if 'PixelSpacing' in dataset:\n",
    "        print(\"Pixel spacing....:\", dataset.PixelSpacing)\n",
    "\n",
    "    dicom_image_arr = dataset.pixel_array"
   ]
  },
  {
   "cell_type": "markdown",
   "metadata": {},
   "source": [
    "#### Send Inference request like below"
   ]
  },
  {
   "cell_type": "code",
   "execution_count": 6,
   "metadata": {},
   "outputs": [
    {
     "name": "stdout",
     "output_type": "stream",
     "text": [
      "Request URL: http://localhost:8001/v1/models/unet:predict\n",
      "Input shape: (1, 4, 160, 160)\n",
      "Output shape: (1, 1, 160, 160)\n",
      "Completed Inference with one sample in 0.066 sec,\n"
     ]
    }
   ],
   "source": [
    "import numpy as np\n",
    "import json\n",
    "import requests\n",
    "import time\n",
    "\n",
    "# Create a dummy data for UNet, as the dicom image read above does not have 4 channels.\n",
    "input_data = np.random.randint(0, 255, size=(1, 4, 160,160))\n",
    "\n",
    "data_obj = {'inputs':  input_data.tolist()}\n",
    "data_json = json.dumps(data_obj)\n",
    "#print(data_json)\n",
    "\n",
    "start_time = time.time()\n",
    "request_url = \"http://localhost:8001/v1/models/unet:predict\"\n",
    "result = requests.post(request_url, data=data_json)\n",
    "result_dict = json.loads(result.text)\n",
    "delta = (time.time() - start_time)\n",
    "\n",
    "print(\"Request URL:\", request_url)\n",
    "print(\"Input shape:\", input_data.shape)\n",
    "print(\"Output shape:\", np.asarray(result_dict['outputs']).shape)\n",
    "print(\"Completed Inference with one sample in {:.3f} sec,\".format(delta))"
   ]
  },
  {
   "cell_type": "code",
   "execution_count": null,
   "metadata": {},
   "outputs": [],
   "source": []
  }
 ],
 "metadata": {
  "kernelspec": {
   "display_name": "Python 3",
   "language": "python",
   "name": "python3"
  },
  "language_info": {
   "codemirror_mode": {
    "name": "ipython",
    "version": 3
   },
   "file_extension": ".py",
   "mimetype": "text/x-python",
   "name": "python",
   "nbconvert_exporter": "python",
   "pygments_lexer": "ipython3",
   "version": "3.6.10"
  }
 },
 "nbformat": 4,
 "nbformat_minor": 4
}
